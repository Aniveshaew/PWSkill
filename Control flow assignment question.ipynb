{
 "cells": [
  {
   "cell_type": "code",
   "execution_count": 5,
   "id": "15e8e16e",
   "metadata": {},
   "outputs": [
    {
     "name": "stdout",
     "output_type": "stream",
     "text": [
      "3 3\n",
      "3 4\n"
     ]
    }
   ],
   "source": [
    "### Challenge Level:\n",
    "# 31. Create a program that validates a password based on complexity rules (length, characters, etc.).\n",
    "import re\n",
    "x=\"\"\n",
    "pattern = r\"[!@$%^&*()_+{}\\[\\]:;<>,.?~\\\\]\"\n",
    "pwrd = \"AniveshhhhH\"\n",
    "for i in pwrd:\n",
    "    if len(pwrd)>=8 and pwrd[0].isupper()==True and pwrd[-1].isupper()==True:\n",
    "        if re.search(pattern,i):\n",
    "            x=\"Valid\"\n",
    "        else:\n",
    "            x=\"Not Valid\"\n",
    "  \n",
    "\n",
    "# 32. Develop a program that performs matrix addition and subtraction based on user input\n",
    "x,y=map(int,input().split())\n",
    "l1=[]\n",
    "for i in range(1,x+1):\n",
    "    l2=[]\n",
    "    for j in range(1,y+1):\n",
    "        l2.append(j)\n",
    "    l1.append(l2)\n",
    "    \n",
    "x,y=map(int,input().split())\n",
    "l3=[]\n",
    "for i in range(1,x+1):\n",
    "    l4=[]\n",
    "    for j in range(1,y+1):\n",
    "        l4.append(j)\n",
    "    l3.append(l4)\n"
   ]
  },
  {
   "cell_type": "code",
   "execution_count": 6,
   "id": "39c880ab",
   "metadata": {},
   "outputs": [
    {
     "data": {
      "text/plain": [
       "([[1, 2, 3], [1, 2, 3], [1, 2, 3]], [[1, 2, 3, 4], [1, 2, 3, 4], [1, 2, 3, 4]])"
      ]
     },
     "execution_count": 6,
     "metadata": {},
     "output_type": "execute_result"
    }
   ],
   "source": [
    "l1,l3"
   ]
  },
  {
   "cell_type": "code",
   "execution_count": 9,
   "id": "7d0d8725",
   "metadata": {},
   "outputs": [
    {
     "name": "stdout",
     "output_type": "stream",
     "text": [
      "Sum: 11111\n",
      "Sum: 11334\n",
      "Sum: 55789\n",
      "name Anivesh\n",
      "sal 100000000000\n",
      "Positional args are An ab\n"
     ]
    }
   ],
   "source": [
    "def mix(x, y, *b, **a):\n",
    "    # Initialize sum\n",
    "    total = 0\n",
    "\n",
    "    # Sum the values in *b\n",
    "    for i in b:\n",
    "        total += i\n",
    "        print(\"Sum:\", total)\n",
    "\n",
    "    # Print the keyword arguments in **a\n",
    "    for key, value in a.items():\n",
    "        print(key, value)\n",
    "\n",
    "    # Print positional args\n",
    "    print(\"Positional args are\", x, y)\n",
    "\n",
    "# Example usage\n",
    "mix(\"An\", \"ab\", 11111, 223, 44455, name=\"Anivesh\", sal=\"100000000000\")"
   ]
  },
  {
   "cell_type": "code",
   "execution_count": 14,
   "id": "ff4a8a81",
   "metadata": {},
   "outputs": [
    {
     "name": "stdout",
     "output_type": "stream",
     "text": [
      "Hello World\n"
     ]
    }
   ],
   "source": [
    "# lambda function\n",
    "x=lambda : print(\"Hello World\")\n",
    "x()"
   ]
  },
  {
   "cell_type": "code",
   "execution_count": 16,
   "id": "87c654f7",
   "metadata": {},
   "outputs": [
    {
     "data": {
      "text/plain": [
       "3"
      ]
     },
     "execution_count": 16,
     "metadata": {},
     "output_type": "execute_result"
    }
   ],
   "source": [
    "s=lambda a,b:a+b\n",
    "s(1,2)"
   ]
  },
  {
   "cell_type": "code",
   "execution_count": 18,
   "id": "d56d4fa6",
   "metadata": {},
   "outputs": [
    {
     "data": {
      "text/plain": [
       "230"
      ]
     },
     "execution_count": 18,
     "metadata": {},
     "output_type": "execute_result"
    }
   ],
   "source": [
    "m = lambda a,b:a*b\n",
    "m(10,23)"
   ]
  },
  {
   "cell_type": "code",
   "execution_count": 20,
   "id": "fea41d0a",
   "metadata": {},
   "outputs": [
    {
     "name": "stdout",
     "output_type": "stream",
     "text": [
      "Enter number2\n",
      "second number3\n"
     ]
    },
    {
     "data": {
      "text/plain": [
       "(4, 9)"
      ]
     },
     "execution_count": 20,
     "metadata": {},
     "output_type": "execute_result"
    }
   ],
   "source": [
    "a =int(input(\"Enter number\"))\n",
    "b=int(input(\"second number\"))\n",
    "sqr = lambda a,b:(a**2,b**2)\n",
    "sqr(a,b)"
   ]
  },
  {
   "cell_type": "code",
   "execution_count": 32,
   "id": "ccdf1533",
   "metadata": {},
   "outputs": [
    {
     "data": {
      "text/plain": [
       "False"
      ]
     },
     "execution_count": 32,
     "metadata": {},
     "output_type": "execute_result"
    }
   ],
   "source": [
    "ev = lambda a:True if a%2==0 else False\n",
    "ev(13)"
   ]
  },
  {
   "cell_type": "code",
   "execution_count": 39,
   "id": "fef83294",
   "metadata": {},
   "outputs": [
    {
     "data": {
      "text/plain": [
       "21"
      ]
     },
     "execution_count": 39,
     "metadata": {},
     "output_type": "execute_result"
    }
   ],
   "source": [
    "g = lambda x,y : x if x>y else y\n",
    "g(21,16)"
   ]
  },
  {
   "cell_type": "code",
   "execution_count": 42,
   "id": "d2f1fb5c",
   "metadata": {},
   "outputs": [
    {
     "data": {
      "text/plain": [
       "211"
      ]
     },
     "execution_count": 42,
     "metadata": {},
     "output_type": "execute_result"
    }
   ],
   "source": [
    "g = lambda x,y,z : x if x>y and x>z else z\n",
    "g(21,1600,211)"
   ]
  },
  {
   "cell_type": "code",
   "execution_count": 50,
   "id": "34ebb111",
   "metadata": {},
   "outputs": [],
   "source": [
    "product =[\n",
    "{\"name\":\"product21\",\"price\":50},\n",
    "    {\"name\":\"product2\",\"price\":40},\n",
    "    {\"name\":\"product32\",\"price\":30},\n",
    "    {\"name\":\"product4\",\"price\":20}    \n",
    "]"
   ]
  },
  {
   "cell_type": "code",
   "execution_count": 53,
   "id": "2998e6c5",
   "metadata": {},
   "outputs": [
    {
     "name": "stdout",
     "output_type": "stream",
     "text": [
      "{'name': 'product2', 'price': 40}\n",
      "{'name': 'product21', 'price': 50}\n",
      "{'name': 'product32', 'price': 30}\n",
      "{'name': 'product4', 'price': 20}\n"
     ]
    }
   ],
   "source": [
    "sort = sorted(product,key=lambda x:x[\"name\"],reverse=False)\n",
    "for i in sort:\n",
    "    print(i)"
   ]
  },
  {
   "cell_type": "code",
   "execution_count": 77,
   "id": "2aa57586",
   "metadata": {},
   "outputs": [
    {
     "data": {
      "text/plain": [
       "['A', 'i', 'e', 'e', 'i', 'o', 'e', 'o', 'e']"
      ]
     },
     "execution_count": 77,
     "metadata": {},
     "output_type": "execute_result"
    }
   ],
   "source": [
    "vow =[\"a\",\"e\",\"i\",\"o\",\"u\",\"A\",\"E\",\"I\",\"O\",\"U\"]\n",
    "cha=\"Anivesheioreoe\"\n",
    "d=lambda x:[i for i in cha if i in vow]\n",
    "d(cha)\n"
   ]
  },
  {
   "cell_type": "code",
   "execution_count": 80,
   "id": "842b52ad",
   "metadata": {},
   "outputs": [
    {
     "data": {
      "text/plain": [
       "'A i e e i o e o e'"
      ]
     },
     "execution_count": 80,
     "metadata": {},
     "output_type": "execute_result"
    }
   ],
   "source": [
    "d=lambda x:(\" \".join(i for i in cha if i in vow))\n",
    "d(cha)"
   ]
  },
  {
   "cell_type": "code",
   "execution_count": 104,
   "id": "145475e6",
   "metadata": {},
   "outputs": [
    {
     "data": {
      "text/plain": [
       "([40], [1, 2, 3, 5, 6, 9, 10, 15, 18, 30, 45, 90])"
      ]
     },
     "execution_count": 104,
     "metadata": {},
     "output_type": "execute_result"
    }
   ],
   "source": [
    "# 33. Write a program that calculates the greatest common divisor (GCD) of two numbers using the Euclidean \n",
    "# algorithm.\n",
    "# a,b = map(int,(input().split(\" \")))\n",
    "a=40\n",
    "b=90\n",
    "l1=[]\n",
    "for i in range(a,b+1):\n",
    "    if a%i==0:\n",
    "        l1.append(i)\n",
    "l2=[]\n",
    "for j in range(1,b+1):\n",
    "    if b%j==0:\n",
    "        l2.append(j)\n",
    "l1,l2\n",
    "\n",
    "# 34. Build a program that performs matrix multiplication using nested loops and conditional statements.\n",
    "\n",
    "# 35. Create a program that simulates a basic text-based tic-tac-toe game against the computer.\n",
    "\n",
    "# 36. Write a program that generates Fibonacci numbers up to a specified term using iterative methods.\n",
    "\n",
    "# 37. Develop a program that calculates the nth term of the Fibonacci sequence using memoization.\n",
    "\n",
    "# 38. Create a program that generates a calendar for a given month and year using conditional statements.\n",
    "\n",
    "# 39. Build a program that simulates a basic text-based blackjack game against the computer.\n",
    "\n",
    "# 40. Write a program that generates the prime factors of a given number using trial division."
   ]
  },
  {
   "cell_type": "code",
   "execution_count": 107,
   "id": "00fe6fbf",
   "metadata": {},
   "outputs": [
    {
     "data": {
      "text/plain": [
       "['-ve']"
      ]
     },
     "execution_count": 107,
     "metadata": {},
     "output_type": "execute_result"
    }
   ],
   "source": [
    "#  Write a Python program to check if a given number is positive or negative.\n",
    "x=-12\n",
    "y=[\"-ve\" if x<0 else \"+ve\"]\n",
    "y\n"
   ]
  },
  {
   "cell_type": "code",
   "execution_count": 110,
   "id": "1d9b430b",
   "metadata": {},
   "outputs": [
    {
     "data": {
      "text/plain": [
       "['No']"
      ]
     },
     "execution_count": 110,
     "metadata": {},
     "output_type": "execute_result"
    }
   ],
   "source": [
    "# 2. Create a program that determines if a person is eligible to vote based on their age.\n",
    "x=17\n",
    "y=[\"Eligible\" if x>=18 else \"No\"]\n",
    "y\n"
   ]
  },
  {
   "cell_type": "code",
   "execution_count": 115,
   "id": "38d88e38",
   "metadata": {},
   "outputs": [
    {
     "data": {
      "text/plain": [
       "[300]"
      ]
     },
     "execution_count": 115,
     "metadata": {},
     "output_type": "execute_result"
    }
   ],
   "source": [
    "# 3. Develop a program to find the maximum of two numbers using if-else statements.\n",
    "x=10\n",
    "y=300\n",
    "z=[x if x>y else y]\n",
    "z\n",
    "\n"
   ]
  },
  {
   "cell_type": "code",
   "execution_count": 120,
   "id": "b398f680",
   "metadata": {},
   "outputs": [
    {
     "name": "stdout",
     "output_type": "stream",
     "text": [
      "No Leap\n"
     ]
    }
   ],
   "source": [
    "# 4. Write a Python script to classify a given year as a leap year or not.\n",
    "x=2011\n",
    "\n",
    "if x%400==0 or ( x%100!=0 and x%4==0):\n",
    "    print(\"Leap\")\n",
    "else:\n",
    "    print(\"No Leap\")\n"
   ]
  },
  {
   "cell_type": "code",
   "execution_count": 124,
   "id": "a865cd7a",
   "metadata": {},
   "outputs": [
    {
     "name": "stdout",
     "output_type": "stream",
     "text": [
      "No\n"
     ]
    }
   ],
   "source": [
    "# 5. Create a program that checks whether a character is a vowel or a consonant.\n",
    "c=\"aeiouAEIOU\"\n",
    "\n",
    "x=\"d\"\n",
    "if x in c:\n",
    "    print(\"Vow\")\n",
    "else:\n",
    "    print(\"No\")\n"
   ]
  },
  {
   "cell_type": "code",
   "execution_count": 127,
   "id": "90d95152",
   "metadata": {},
   "outputs": [
    {
     "data": {
      "text/plain": [
       "['odd']"
      ]
     },
     "execution_count": 127,
     "metadata": {},
     "output_type": "execute_result"
    }
   ],
   "source": [
    "# 6. Implement a program to determine whether a given number is even or odd.\n",
    "x=1\n",
    "y=[\"even\" if x%2==0 else \"odd\"]\n",
    "y\n"
   ]
  },
  {
   "cell_type": "code",
   "execution_count": 132,
   "id": "08b52073",
   "metadata": {},
   "outputs": [
    {
     "data": {
      "text/plain": [
       "'No 0 Plzzzz'"
      ]
     },
     "execution_count": 132,
     "metadata": {},
     "output_type": "execute_result"
    }
   ],
   "source": [
    "# 7. Write a Python function to calculate the absolute value of a number without using the `abs()` function.\n",
    "def ab(n):\n",
    "    if n==0:\n",
    "        return \"No 0 Plzzzz\"\n",
    "    elif n<0:\n",
    "        n=-n\n",
    "        return n\n",
    "    else:\n",
    "        return n\n",
    "ab(-11\n",
    "  )\n"
   ]
  },
  {
   "cell_type": "code",
   "execution_count": 143,
   "id": "23db0e7c",
   "metadata": {},
   "outputs": [
    {
     "data": {
      "text/plain": [
       "[110]"
      ]
     },
     "execution_count": 143,
     "metadata": {},
     "output_type": "execute_result"
    }
   ],
   "source": [
    "# 8. Develop a program that determines the largest of three given numbers using if-else statements.\n",
    "x,y,z=110,2,10\n",
    "g=[x if x>y and x>z else(y if y>z else z)]\n",
    "g\n"
   ]
  },
  {
   "cell_type": "code",
   "execution_count": 147,
   "id": "52982584",
   "metadata": {},
   "outputs": [
    {
     "data": {
      "text/plain": [
       "False"
      ]
     },
     "execution_count": 147,
     "metadata": {},
     "output_type": "execute_result"
    }
   ],
   "source": [
    "# 9. Create a program that checks if a given string is a palindrome.\n",
    "x=\"JAHAJI\"\n",
    "x==x[::-1]\n"
   ]
  },
  {
   "cell_type": "code",
   "execution_count": 156,
   "id": "8cb0a529",
   "metadata": {},
   "outputs": [
    {
     "data": {
      "text/plain": [
       "['C']"
      ]
     },
     "execution_count": 156,
     "metadata": {},
     "output_type": "execute_result"
    }
   ],
   "source": [
    "# 10. Write a Python program to calculate the grade based on a student's score\n",
    "# A=1,10\n",
    "# B=11,20\n",
    "# C=21,30\n",
    "m = 21\n",
    "x=[\"A\" if m >=0 and m<11 else (\"B\" if m>=11 and m<21 else \"C\")]\n",
    "x\n"
   ]
  },
  {
   "cell_type": "code",
   "execution_count": 158,
   "id": "c9047a1b",
   "metadata": {},
   "outputs": [
    {
     "data": {
      "text/plain": [
       "[110]"
      ]
     },
     "execution_count": 158,
     "metadata": {},
     "output_type": "execute_result"
    }
   ],
   "source": [
    "# Nested If-Else Statements:\n",
    "# 11. Write a program to find the largest among three numbers using nested if-else statements.\n",
    "x,y,z=110,2,10\n",
    "g=[x if x>y and x>z else(y if y>z else z)]\n",
    "g\n"
   ]
  },
  {
   "cell_type": "code",
   "execution_count": 160,
   "id": "c9b86ba3",
   "metadata": {},
   "outputs": [
    {
     "data": {
      "text/plain": [
       "'Isosceles'"
      ]
     },
     "execution_count": 160,
     "metadata": {},
     "output_type": "execute_result"
    }
   ],
   "source": [
    "# 12. Implement a program to determine if a triangle is equilateral, isosceles, or scalene.\n",
    "def triangle_type(a, b, c):\n",
    "    if a == b == c:\n",
    "        return \"Equilateral\"\n",
    "    elif a == b or b == c or a == c:\n",
    "        return \"Isosceles\"\n",
    "    else:\n",
    "        return \"Scalene\"\n",
    "triangle_type(11,11,10)\n"
   ]
  },
  {
   "cell_type": "code",
   "execution_count": 162,
   "id": "3789b647",
   "metadata": {},
   "outputs": [
    {
     "name": "stdout",
     "output_type": "stream",
     "text": [
      "No Leap\n"
     ]
    }
   ],
   "source": [
    "# 13. Develop a program that checks if a year is a leap year and also if it is a century year.\n",
    "x=2011\n",
    "\n",
    "if x%400==0 or ( x%100!=0 and x%4==0):\n",
    "    print(\"Leap\")\n",
    "else:\n",
    "    print(\"No Leap\")\n",
    "\n"
   ]
  },
  {
   "cell_type": "code",
   "execution_count": 167,
   "id": "7a7756c1",
   "metadata": {},
   "outputs": [
    {
     "ename": "SyntaxError",
     "evalue": "invalid syntax. Maybe you meant '==' or ':=' instead of '='? (2701640374.py, line 10)",
     "output_type": "error",
     "traceback": [
      "\u001b[1;36m  Cell \u001b[1;32mIn[167], line 10\u001b[1;36m\u001b[0m\n\u001b[1;33m    a=4, b=8,c=4\u001b[0m\n\u001b[1;37m    ^\u001b[0m\n\u001b[1;31mSyntaxError\u001b[0m\u001b[1;31m:\u001b[0m invalid syntax. Maybe you meant '==' or ':=' instead of '='?\n"
     ]
    }
   ],
   "source": [
    "# 14. Write a Python script to determine if a number is positive, negative, or zero.\n",
    "x=100\n",
    "if x<0:\n",
    "    print(\"-ve\")\n",
    "elif x>0:\n",
    "    print(\"+ve\")\n",
    "else:\n",
    "    print(\"0\")\n",
    "# 15. Create a program to check if a person is a teenager (between 13 and 19 years old).\n",
    "# 16. Develop a program that determines the type of angle based on its measure (acute, obtuse, or right).\n",
    "\n"
   ]
  },
  {
   "cell_type": "code",
   "execution_count": 1,
   "id": "353253a9",
   "metadata": {},
   "outputs": [
    {
     "name": "stdout",
     "output_type": "stream",
     "text": [
      "d is 0\n"
     ]
    }
   ],
   "source": [
    "# 17. Write a Python program to calculate the roots of a quadratic equation.\n",
    "import math\n",
    "# Input coefficients a, b, and c from the user\n",
    "a =10\n",
    "b =20 \n",
    "c =40\n",
    "d=(b**2)-4*(a*c)\n",
    "if d>0:\n",
    "    r1=(-b+math.sqrt(d))//2*a\n",
    "    r2=(-b-math.sqrt(d))//2*a\n",
    "else:\n",
    "    print(\"d is 0\")\n",
    "\n",
    "    \n",
    "\n",
    "# 18. Implement a program to determine the day of the week based on a user-provided number (1 for Monday, 2 \n",
    "# for Tuesday, etc.).\n",
    "\n",
    "# 19. Create a program that determines if a year is a leap year and also if it is evenly divisible by 400.\n",
    "\n",
    "# 20. Develop a program that checks if a given number is prime or not using nested if-else statements."
   ]
  },
  {
   "cell_type": "code",
   "execution_count": 8,
   "id": "9933159d",
   "metadata": {},
   "outputs": [
    {
     "name": "stdout",
     "output_type": "stream",
     "text": [
      "Enter Day.No3\n",
      "W\n"
     ]
    }
   ],
   "source": [
    "# Implement a program to determine the day of the week based on a user-provided number (1 for Monday, 2 \n",
    "# for Tuesday, etc.)\n",
    "d={1:\"M\",2:\"T\",3:\"W\",4:\"T\",5:\"F\",6:\"S\"}\n",
    "x=int(input(\"Enter Day.No\"))\n",
    "for key,val in d.items():\n",
    "    if x==key:\n",
    "        print(val)\n",
    "    else:\n",
    "        None\n",
    "    "
   ]
  },
  {
   "cell_type": "code",
   "execution_count": 11,
   "id": "86a77843",
   "metadata": {},
   "outputs": [
    {
     "name": "stdout",
     "output_type": "stream",
     "text": [
      "Yes\n"
     ]
    }
   ],
   "source": [
    "# 19. Create a program that determines if a year is a leap year and also if it is evenly divisible by 400\n",
    "x=2000\n",
    "\n",
    "if x%400==0 or (x%100==0 and x%4==0):\n",
    "    print(\"Yes\")\n",
    "else:\n",
    "    print(\"No\")"
   ]
  },
  {
   "cell_type": "code",
   "execution_count": 38,
   "id": "289ff775",
   "metadata": {},
   "outputs": [
    {
     "name": "stdout",
     "output_type": "stream",
     "text": [
      "No\n"
     ]
    }
   ],
   "source": [
    "# 20. Develop a program that checks if a given number is prime or not using nested if-else statements.\n",
    "x=15\n",
    "c=0\n",
    "d=0\n",
    "for i in range(2,x-1):\n",
    "    if x%i==0:\n",
    "        c=c+1\n",
    "    else:\n",
    "        d=d+1\n",
    "if c>0:\n",
    "    print(\"No\")\n",
    "else:\n",
    "    print(\"yes\")"
   ]
  },
  {
   "cell_type": "code",
   "execution_count": 52,
   "id": "4b7c304e",
   "metadata": {},
   "outputs": [
    {
     "name": "stdout",
     "output_type": "stream",
     "text": [
      "Upper\n"
     ]
    }
   ],
   "source": [
    "# Elif Statements:\n",
    "# 21. Write a Python program to assign grades based on different ranges of scores using elif statements.\n",
    "\n",
    "# 22. Implement a program to determine the type of a triangle based on its angles.\n",
    "\n",
    "# 23. Develop a program to categorize a given person's BMI into underweight, normal, overweight, or obese using \n",
    "# elif statements.\n",
    "\n",
    "# 24. Create a program that determines whether a given number is positive, negative, or zero using elif \n",
    "# statements.\n",
    "\n",
    "# 25. Write a Python script to determine the type of a character (uppercase, lowercase, or special) using elif \n",
    "# statements.\n",
    "x=\"T\"\n",
    "s=\"@#$%^&*\"\n",
    "if x in s:\n",
    "    print(\"Special\")\n",
    "else:\n",
    "    if x.isupper():\n",
    "        print(\"Upper\")\n",
    "    elif x.islower():\n",
    "        print(\"Lower\")\n",
    "# 26. Implement a program to calculate the discounted price based on different purchase amounts using elif \n",
    "# statements.\n",
    "\n",
    "# 27. Develop a program to calculate the electricity bill based on different consumption slabs using elif \n",
    "# statements.\n",
    "\n",
    "# 28. Create a program to determine the type of quadrilateral based on its angles and sides using elif \n",
    "# statements.\n",
    "\n",
    "# 29. Write a Python script to determine the season based on a user-provided month using elif statements.\n",
    "\n",
    "# 30. Implement a program to determine the type of a year (leap or common) and month (30 or 31 days) using \n",
    "# elif statements."
   ]
  },
  {
   "cell_type": "code",
   "execution_count": 53,
   "id": "ac1e3f9c",
   "metadata": {},
   "outputs": [
    {
     "data": {
      "text/plain": [
       "True"
      ]
     },
     "execution_count": 53,
     "metadata": {},
     "output_type": "execute_result"
    }
   ],
   "source": [
    "\"#\" in s"
   ]
  },
  {
   "cell_type": "code",
   "execution_count": 90,
   "id": "1ef475b1",
   "metadata": {},
   "outputs": [
    {
     "name": "stdout",
     "output_type": "stream",
     "text": [
      "-182.01929408716202 -217.98070591283798\n"
     ]
    },
    {
     "data": {
      "text/plain": [
       "39.625"
      ]
     },
     "execution_count": 90,
     "metadata": {},
     "output_type": "execute_result"
    }
   ],
   "source": [
    "# Intermediate Level:\n",
    "# 11. Write a program that calculates the roots of a quadratic equation .\n",
    "a,b,c=11,200,20\n",
    "import math\n",
    "import numpy as np\n",
    "d=b*b-4*a*c\n",
    "if d>0:\n",
    "    x1=-b+np.sqrt(d)/a\n",
    "    x2=-b-np.sqrt(d)/a\n",
    "    \n",
    "print(x1,x2)\n",
    "a,b,c\n",
    "# 12. Create a program that determines the day of the week based on the day number (1-7).\n",
    "\n",
    "# 13. Develop a program that calculates the factorial of a given number using recursion.\n",
    "def fact(n):\n",
    "    if n==0:\n",
    "        return 1\n",
    "    else: \n",
    "        return n*fact(n-1)\n",
    "fact(4)\n",
    "# 14. Write a program to find the largest among three numbers without using the `max()` function.\n",
    "a,b,c=12,21,10\n",
    "x=lambda a,b,c:a if a>b and a>c else (b if b>c else c )\n",
    "r=x(21,10,43)\n",
    "r\n",
    "\n",
    "# 15. Create a program that simulates a basic ATM transaction menu.\n",
    "\n",
    "# 16. Build a program that checks if a given string is a palindrome or not.\n",
    "\n",
    "# 17. Write a program that calculates the average of a list of numbers, excluding the smallest and largest values.\n",
    "x=[1,21,2,3,4,55,67,65,100]\n",
    "x.remove(min(x))\n",
    "np.mean(x)\n",
    "\n",
    "# 18. Develop a program that converts a given temperature from Celsius to Fahrenheit.\n",
    "\n",
    "# 19. Create a program that simulates a basic calculator for addition, subtraction, multiplication, and division.\n",
    "\n",
    "# 20. Write a program that determines the roots of a cubic equation using the Cardano formula"
   ]
  },
  {
   "cell_type": "code",
   "execution_count": 1,
   "id": "7ea18d4c",
   "metadata": {},
   "outputs": [
    {
     "name": "stdout",
     "output_type": "stream",
     "text": [
      "Enter the r,p,ss\n",
      "scissor\n"
     ]
    }
   ],
   "source": [
    "# Advanced Level:\n",
    "# 21. Create a program that calculates the income tax based on the user's income and tax brackets.\n",
    "\n",
    "# 22. Write a program that simulates a rock-paper-scissors game against the computer.\n",
    "import random\n",
    "l=[\"r\",\"p\",\"s\"]\n",
    "x=random.choice(l)\n",
    "s=input(\"Enter the r,p,s\")\n",
    "if x==s:\n",
    "    print(\"Draw\")\n",
    "elif x==\"r\" and s==\"p\" or (s==\"r\" and x==\"p\"):\n",
    "    print(\"Papar\")\n",
    "elif (x==\"s\" and s==\"p\") or (s==\"s\" and x==\"p\"):\n",
    "    print(\"scissor\")\n",
    "else:\n",
    "    print(\"rock\")\n",
    "\n"
   ]
  },
  {
   "cell_type": "code",
   "execution_count": 46,
   "id": "6f29009c",
   "metadata": {},
   "outputs": [
    {
     "name": "stdout",
     "output_type": "stream",
     "text": [
      "Where do you wanna go\n",
      "d\n",
      "Invalid Input\n",
      "\n",
      "Thanks for playing!\n"
     ]
    }
   ],
   "source": [
    "# 23. Develop a program that generates a random password based on user preferences (length, complexity).\n",
    "x=10\n",
    "y=0\n",
    "l=[]\n",
    "s=\"\"\n",
    "for i in range(1,x+1):\n",
    "    y=random.randint(1,i+1)\n",
    "    l.append(y)\n",
    "for i in l:\n",
    "    s=s+str(i)\n",
    "int(s)\n",
    "   \n",
    "# 24. Create a program that implements a simple text-based adventure game with branching scenarios.\n",
    "def game():\n",
    "    print(\"Where do you wanna go\")\n",
    "    i = input().lower()\n",
    "    if i==\"delhi\":\n",
    "        Delhi()\n",
    "    elif i==\"mumbai\":\n",
    "        Mumbai()\n",
    "    else:\n",
    "        print(\"Invalid Input\")\n",
    "def Delhi():\n",
    "    print(\"Welcome to delhi, do wanna go India gate or CP\")\n",
    "    d=input().lower()\n",
    "    if d==\"India Gate\":\n",
    "        print(\"welcome to India Gate\")\n",
    "    else:\n",
    "        print(\"Welcome to CP\")\n",
    "def Mumbai():\n",
    "    print(\"Welcome to Mumbai, do wanna go Taj or Juhu\")\n",
    "    d=input().lower()\n",
    "    if d==\"taj\":\n",
    "        print(\"welcome to TAJ\")\n",
    "    else:\n",
    "        print(\"Welcome to Juhu\")\n",
    "def main():\n",
    "    game()\n",
    "    print(\"\\nThanks for playing!\")\n",
    "\n",
    "if __name__ == \"__main__\":\n",
    "    main()\n"
   ]
  },
  {
   "cell_type": "code",
   "execution_count": 60,
   "id": "2f44ed0d",
   "metadata": {},
   "outputs": [
    {
     "name": "stdout",
     "output_type": "stream",
     "text": [
      "-5.5\n"
     ]
    }
   ],
   "source": [
    "# 25. Build a program that solves a linear equation  for x, considering different cases.\n",
    "def linear(a,b):\n",
    "    if a==0:\n",
    "        print(\"0 is the root\")\n",
    "        if b==0:\n",
    "            print(\"Infinite Solution\")\n",
    "    else:\n",
    "        x=-b/a\n",
    "        print(x)\n",
    "def main():\n",
    "    linear(10,55)\n",
    "if __name__ == \"__main__\":\n",
    "    main()\n",
    "    \n",
    "# 26. Write a program that simulates a basic quiz game with multiple-choice questions and scoring.\n",
    "\n"
   ]
  },
  {
   "cell_type": "code",
   "execution_count": 106,
   "id": "c267b2cf",
   "metadata": {},
   "outputs": [
    {
     "name": "stdout",
     "output_type": "stream",
     "text": [
      "Not Prime\n",
      "Not Prime\n",
      "Not Prime\n",
      "Not Prime\n",
      "Not Prime\n",
      "Not Prime\n",
      "Not Prime\n",
      "Not Prime\n",
      "Not Prime\n",
      "[3, 5, 7, 9, 11]\n"
     ]
    }
   ],
   "source": [
    "# 27. Develop a program that determines whether a given year is a prime number or not.\n",
    "l=[]\n",
    "def prime(n):\n",
    "    for i in range(2,n):\n",
    "        if i%2!=0:\n",
    "            l.append(i)\n",
    "        for j in l:\n",
    "            if n%j==0:\n",
    "                print(\"Not Prime\")\n",
    "                break\n",
    "            else:\n",
    "                print(\"Prime\")\n",
    "    print(l)\n",
    "prime(12) "
   ]
  },
  {
   "cell_type": "code",
   "execution_count": 136,
   "id": "e77ea9c6",
   "metadata": {},
   "outputs": [
    {
     "name": "stdout",
     "output_type": "stream",
     "text": [
      "\n"
     ]
    },
    {
     "data": {
      "text/plain": [
       "(11, 13, 1200)"
      ]
     },
     "execution_count": 136,
     "metadata": {},
     "output_type": "execute_result"
    }
   ],
   "source": [
    "# 28. Create a program that sorts three numbers in ascending order using conditional statements.\n",
    "\n",
    "def sort(a,b,c):\n",
    "     if a > b:\n",
    "        a, b = b, a\n",
    "     if a > c:\n",
    "        a, c = c, a\n",
    "     if b > c:\n",
    "        b, c = c, b\n",
    "     return a, b, c\n",
    "print()\n",
    "sort(1200,11,13)\n",
    "    \n",
    "\n"
   ]
  },
  {
   "cell_type": "code",
   "execution_count": 138,
   "id": "9cb9df16",
   "metadata": {},
   "outputs": [
    {
     "data": {
      "text/plain": [
       "'BMI is 0.2197133585722012 '"
      ]
     },
     "execution_count": 138,
     "metadata": {},
     "output_type": "execute_result"
    }
   ],
   "source": [
    "\n",
    "# 29. Build a program that determines the roots of a quartic equation using numerical methods.\n",
    "\n",
    "# 30.Write a program that calculates the BMI (Body Mass Index) and provides health recommendations based \n",
    "# on the user's input\n",
    "def BMI(w,h):\n",
    "    x=w/(h**2)\n",
    "    return f\"BMI is {x} \"\n",
    "BMI(65,17.2)"
   ]
  },
  {
   "cell_type": "code",
   "execution_count": 179,
   "id": "5d91262d",
   "metadata": {},
   "outputs": [
    {
     "name": "stdout",
     "output_type": "stream",
     "text": [
      "[0, 1, 1, 2, 3, 5, 8, 13, 21, 34, 55, 89]\n",
      "34\n",
      "5702887\n"
     ]
    }
   ],
   "source": [
    "# lChallenge Level:\n",
    "# 31. Create a program that validates a password based on complexity rules (length, characters, etc.).\n",
    "\n",
    "# 32. Develop a program that performs matrix addition and subtraction based on user input.\n",
    "x=[[1,2],[3,4]]\n",
    "y=[[2,3],[1,1]]\n",
    "l=[[0,0],[0,0]]\n",
    "for i in range(0,len(x)):\n",
    "    for j in range(0,len(y)):\n",
    "        l[i][j]=x[i][j]+y[i][j]\n",
    "l\n",
    "        \n",
    "        \n",
    "\n",
    "# 33. Write a program that calculates the greatest common divisor (GCD) of two numbers using the Euclidean \n",
    "# algorithm.\n",
    "\n",
    "# 34. Build a program that performs matrix multiplication using nested loops and conditional statements.\n",
    "\n",
    "# 35. Create a program that simulates a basic text-based tic-tac-toe game against the computer.\n",
    "\n",
    "# 36. Write a program that generates Fibonacci numbers up to a specified term using iterative methods.\n",
    "l = [0, 1]\n",
    "\n",
    "for i in range(1, 11):\n",
    "    new_element = l[i] + l[i - 1]\n",
    "    l.append(new_element)\n",
    "\n",
    "print(l)\n",
    "  \n",
    "# 37. Develop a program that calculates the nth term of the Fibonacci sequence using memoization.\n",
    "l = [0, 1]\n",
    "n=int(input())\n",
    "for i in range(1, n):\n",
    "    new_element = l[i] + l[i - 1]\n",
    "    l.append(new_element)\n",
    "\n",
    "print(l[n])\n"
   ]
  },
  {
   "cell_type": "code",
   "execution_count": 206,
   "id": "46e51f68",
   "metadata": {},
   "outputs": [
    {
     "name": "stdout",
     "output_type": "stream",
     "text": [
      "Leap Year\n",
      "1\t2\t3\t4\t5\t6\t7\t8\t9\t10\t11\t12\t13\t14\t15\t16\t17\t18\t19\t20\t21\t22\t23\t24\t25\t26\t27\t28\t29\t30\t31\t\n"
     ]
    }
   ],
   "source": [
    "# 38. Create a program that generates a calendar for a given month and year using conditional statements.\n",
    "import numpy as np\n",
    "x=2000\n",
    "m=\"D\"\n",
    "l=[]\n",
    "d1={\"J\":31,\"F\":28,\"M\":31,\"A\":30,\"M\":31,\"JU\":30,\"JL\":31,\"A\":31,\"S\":30,\"O\":31,\"N\":30,\"D\":31}\n",
    "d2={\"J\":31,\"F\":29,\"M\":31,\"A\":30,\"M\":31,\"JU\":30,\"JL\":31,\"A\":31,\"S\":30,\"O\":31,\"N\":30,\"D\":31}\n",
    "if x%4==0 and x%400==0:\n",
    "    print(\"Leap Year\")\n",
    "    for key,val in d2.items():\n",
    "        if key==m:\n",
    "            for i in range(1,val+1):\n",
    "                print(i,end=\"\\t\")\n",
    "            print()\n",
    "               \n",
    "else:\n",
    "    print(\"Calender year\")\n",
    "    for key,val in d1.items():\n",
    "        if key==m:\n",
    "            for i in range(1,val+1):\n",
    "                print(i,end=\"\\t\")\n",
    "\n",
    "        \n",
    "    \n",
    "    \n",
    "    \n",
    "# 39. Build a program that simulates a basic text-based blackjack game against the computer.\n",
    "\n",
    "# 40. Write a program that generates the prime factors of a given number using trial division."
   ]
  }
 ],
 "metadata": {
  "kernelspec": {
   "display_name": "Python 3 (ipykernel)",
   "language": "python",
   "name": "python3"
  },
  "language_info": {
   "codemirror_mode": {
    "name": "ipython",
    "version": 3
   },
   "file_extension": ".py",
   "mimetype": "text/x-python",
   "name": "python",
   "nbconvert_exporter": "python",
   "pygments_lexer": "ipython3",
   "version": "3.11.3"
  }
 },
 "nbformat": 4,
 "nbformat_minor": 5
}
